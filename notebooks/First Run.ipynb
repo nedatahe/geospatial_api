{
 "cells": [
  {
   "cell_type": "code",
   "execution_count": 53,
   "id": "484021f2",
   "metadata": {},
   "outputs": [],
   "source": [
    "# Imports.\n",
    "\n",
    "import requests\n",
    "import pandas as pd\n",
    "import json\n",
    "import geopandas as gpd\n",
    "from shapely.geometry import Point\n",
    "from census import Census\n",
    "from us import states\n",
    "import folium"
   ]
  },
  {
   "cell_type": "markdown",
   "id": "e889972f",
   "metadata": {},
   "source": [
    "## Analyzing Aggravated Burglaries in Davidson County"
   ]
  },
  {
   "cell_type": "markdown",
   "id": "2b1ad07a",
   "metadata": {},
   "source": [
    "1. A dataset containing details about Metro Nashville Police Department reported incidents is available at https://data.nashville.gov/Police/Metro-Nashville-Police-Department-Incidents/2u6v-ujjs. Make use of the API to find all aggravated burglary incidents that were reported during the six month period from January 1, 2021 through June 30, 2021."
   ]
  },
  {
   "cell_type": "code",
   "execution_count": 71,
   "id": "f1b11104",
   "metadata": {},
   "outputs": [
    {
     "data": {
      "text/html": [
       "<div>\n",
       "<style scoped>\n",
       "    .dataframe tbody tr th:only-of-type {\n",
       "        vertical-align: middle;\n",
       "    }\n",
       "\n",
       "    .dataframe tbody tr th {\n",
       "        vertical-align: top;\n",
       "    }\n",
       "\n",
       "    .dataframe thead th {\n",
       "        text-align: right;\n",
       "    }\n",
       "</style>\n",
       "<table border=\"1\" class=\"dataframe\">\n",
       "  <thead>\n",
       "    <tr style=\"text-align: right;\">\n",
       "      <th></th>\n",
       "    </tr>\n",
       "  </thead>\n",
       "  <tbody>\n",
       "  </tbody>\n",
       "</table>\n",
       "</div>"
      ],
      "text/plain": [
       "Empty DataFrame\n",
       "Columns: []\n",
       "Index: []"
      ]
     },
     "execution_count": 71,
     "metadata": {},
     "output_type": "execute_result"
    }
   ],
   "source": [
    "params = {\"incident_reported\":\"2021-01-01T00:00:00.000\"}\n",
    "\n",
    "response = requests.get('https://data.nashville.gov/resource/2u6v-ujjs.json', params = params)\n",
    "response\n",
    "burglaries = pd.read_json(response.text)\n",
    "burglaries.head()"
   ]
  },
  {
   "cell_type": "code",
   "execution_count": 3,
   "id": "6b95626d",
   "metadata": {},
   "outputs": [],
   "source": [
    "# Question 1\n",
    "\n",
    "#Read in JSON file using API with selection of aggravated burglary incidents between floating timestamp datatype values.\n",
    "response = requests.get('https://data.nashville.gov/resource/2u6v-ujjs.json?offense_description=BURGLARY- AGGRAVATED&\\\n",
    "$where=incident_reported between \"2021-01-01T00:00:00.000\" and \"2021-06-30T00:00:00.000\"')\n",
    "burglaries = (\n",
    "    pd.read_json(response.text)\n",
    "    .drop_duplicates(subset = \"incident_number\")\n",
    ")\n",
    "\n",
    "#Create GeoDataFrame using longitude and latitude in burglaries dataframe.\n",
    "geometry = [Point(xy) for xy in zip(burglaries['longitude'], burglaries['latitude'])]\n",
    "burglaries = burglaries.drop(['longitude', 'latitude'], axis = 1)\n",
    "geo_burglaries = gpd.GeoDataFrame(burglaries, crs = \"EPSG:4269\", geometry = geometry)"
   ]
  },
  {
   "cell_type": "markdown",
   "id": "d6cbb69b",
   "metadata": {},
   "source": [
    "2. Download the 2019 census tract shapefiles for Tennessee from https://www.census.gov/geographies/mapping-files/time-series/geo/tiger-line-file.2019.html. (The FIPS code for Tennessee is 47). Perform a spatial join to determine the census tract in which each burglary incident occurred. Which census tract had the highest number of burglaries? Warning - each incident can appear multiple times if there are multiple victims, so be sure that you aren't double-counting any incidents."
   ]
  },
  {
   "cell_type": "code",
   "execution_count": 3,
   "id": "6a93926a",
   "metadata": {},
   "outputs": [
    {
     "data": {
      "text/html": [
       "<div>\n",
       "<style scoped>\n",
       "    .dataframe tbody tr th:only-of-type {\n",
       "        vertical-align: middle;\n",
       "    }\n",
       "\n",
       "    .dataframe tbody tr th {\n",
       "        vertical-align: top;\n",
       "    }\n",
       "\n",
       "    .dataframe thead th {\n",
       "        text-align: right;\n",
       "    }\n",
       "</style>\n",
       "<table border=\"1\" class=\"dataframe\">\n",
       "  <thead>\n",
       "    <tr style=\"text-align: right;\">\n",
       "      <th></th>\n",
       "      <th>index</th>\n",
       "      <th>NAMELSAD</th>\n",
       "    </tr>\n",
       "  </thead>\n",
       "  <tbody>\n",
       "    <tr>\n",
       "      <th>0</th>\n",
       "      <td>Census Tract 163</td>\n",
       "      <td>52</td>\n",
       "    </tr>\n",
       "  </tbody>\n",
       "</table>\n",
       "</div>"
      ],
      "text/plain": [
       "              index  NAMELSAD\n",
       "0  Census Tract 163        52"
      ]
     },
     "execution_count": 3,
     "metadata": {},
     "output_type": "execute_result"
    }
   ],
   "source": [
    "# Question 2\n",
    "\n",
    "# Use Geopandas to read in census tract files\n",
    "census_tracts = gpd.read_file(\"../data/tl_2019_47_tract.shx\")\n",
    "geo_burg_census = gpd.sjoin(geo_burglaries, census_tracts, how = \"inner\", op = \"within\")\n",
    "\n",
    "# Census Tract 163 is where the most incidents have occurred. Check answer against others from your team.\n",
    "vc_df = geo_burg_census['NAMELSAD'].value_counts().reset_index()\n",
    "vc_df[vc_df['NAMELSAD'] == vc_df['NAMELSAD'].max()]"
   ]
  },
  {
   "cell_type": "markdown",
   "id": "23598e62",
   "metadata": {},
   "source": [
    "3. For this part, you'll need to request a census API key. Using the 2019 American Community Survey API, obtain, for each census tract, the population (B01001_001E in the detailed tables) and the median income (S1901_C01_012E in the subject tables). Hint: Tennessee's FIPS code is 47 and Davidson County's FIPS code is 37. Merge this new data with the burglaries data above."
   ]
  },
  {
   "cell_type": "code",
   "execution_count": 4,
   "id": "b49e318d",
   "metadata": {},
   "outputs": [],
   "source": [
    "# Question 3\n",
    "\n",
    "# Load census API key.\n",
    "with open('../data/census.json') as fi:\n",
    "    credentials = json.load(fi)\n",
    "api_key = credentials['api_key']\n",
    "c = Census(api_key)\n",
    "\n",
    "# Get requests using census package.\n",
    "davidson_pop = c.acs5.state_county_tract(['NAME', 'B01001_001E'], '47', '037', Census.ALL, year = 2019)\n",
    "davidson_inc = c.acs5st.state_county_tract(['NAME', 'S1901_C01_012E'], '47', '037', Census.ALL, year = 2019)\n",
    "\n",
    "# Create GeoDataFrames.\n",
    "davidson_pop_df = pd.DataFrame(davidson_pop)\n",
    "davidson_inc_df = pd.DataFrame(davidson_inc)\n",
    "\n",
    "# Clean-up for each. *Need to condense code here.*\n",
    "davidson_pop_df[\"Census Tract\"] = davidson_pop_df['NAME'].str.split(',', expand = True)[0]\n",
    "davidson_inc_df[\"Census Tract\"] = davidson_inc_df['NAME'].str.split(',', expand = True)[0]\n",
    "\n",
    "davidson_pop_df = davidson_pop_df.rename(columns = {'B01001_001E':'Total Population'})\\\n",
    ".drop(columns = ['NAME', 'state', 'county', 'tract'])\n",
    "\n",
    "davidson_inc_df = davidson_inc_df.rename(columns = {'S1901_C01_012E':'Median Income'})\\\n",
    ".drop(columns = ['NAME', 'state', 'county', 'tract'])\n",
    "\n",
    "# Merge into geo_burg_census with an attribute join. Code will also need to be condensed here.\n",
    "geo_burg_census = geo_burg_census.rename(columns = {'NAMELSAD':'Census Tract'})\n",
    "davidson = davidson_pop_df.merge(davidson_inc_df, how = 'inner')\n",
    "geo_burg_census = geo_burg_census.merge(davidson, how = 'inner')"
   ]
  },
  {
   "cell_type": "markdown",
   "id": "09c99e81",
   "metadata": {},
   "source": [
    "4. Create a choropleth showing the number of burglaries per 1000 residents for each census tract."
   ]
  },
  {
   "cell_type": "code",
   "execution_count": 5,
   "id": "df9bdd05",
   "metadata": {},
   "outputs": [],
   "source": [
    "# Question 4\n",
    "\n",
    "# Create dataframe of burglaries per 1,000 residents for each census tract.\n",
    "burglaries_per_1000 = pd.DataFrame(geo_burg_census['Census Tract'].value_counts())\n",
    "burglaries_per_1000 = (\n",
    "    burglaries_per_1000.reset_index().rename(columns = {'index':'Census Tract', 'Census Tract':'Burglary Number'})\n",
    ")\n",
    "#burglaries_per_1000['Population'] = (\n",
    "#    geo_burg_census['Total Population'].loc[burglaries_per_1000['Census Tract'] == geo_burg_census['Census Tract']]\n",
    "#)"
   ]
  },
  {
   "cell_type": "markdown",
   "id": "24c86949",
   "metadata": {},
   "source": [
    "5. Finally, we'll build some statistical models to see how well we can explain the number of aggravated burglaries using the median income of each census tract. For this, we'll be using the Generalized Linear Models module of the statsmodels library."
   ]
  },
  {
   "cell_type": "markdown",
   "id": "517114a3",
   "metadata": {},
   "source": [
    "a. Build a \"base model\" - a Poisson regression model with just an intercept term with target variable the rate of burglaries per census tract. (Offset using the [log of the] population so that we are looking at the rate of burglaries per population instead of the number of burglaries.)"
   ]
  },
  {
   "cell_type": "markdown",
   "id": "25f40fbf",
   "metadata": {},
   "source": [
    "b. Now, build a Poisson regression model with target variable the rate of burglaries and predictor variable the median income. (Don't forget to offset by the population)."
   ]
  },
  {
   "cell_type": "markdown",
   "id": "9315a754",
   "metadata": {},
   "source": [
    "c. Finally, try out a negative binomial model. To get started with a negative binomial model, you can check out this tutorial."
   ]
  },
  {
   "cell_type": "markdown",
   "id": "31be3eb5",
   "metadata": {},
   "source": [
    "d. How do your models compare? Hint: the fit models have an AIC attribute."
   ]
  },
  {
   "cell_type": "markdown",
   "id": "d15969b0",
   "metadata": {},
   "source": [
    "Prepare a short presentation (<10 minutes) of your findings."
   ]
  }
 ],
 "metadata": {
  "kernelspec": {
   "display_name": "Python 3 (ipykernel)",
   "language": "python",
   "name": "python3"
  },
  "language_info": {
   "codemirror_mode": {
    "name": "ipython",
    "version": 3
   },
   "file_extension": ".py",
   "mimetype": "text/x-python",
   "name": "python",
   "nbconvert_exporter": "python",
   "pygments_lexer": "ipython3",
   "version": "3.8.11"
  }
 },
 "nbformat": 4,
 "nbformat_minor": 5
}
