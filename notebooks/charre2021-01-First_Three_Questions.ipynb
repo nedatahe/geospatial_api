{
 "cells": [
  {
   "cell_type": "code",
   "execution_count": 1,
   "id": "484021f2",
   "metadata": {},
   "outputs": [],
   "source": [
    "# Imports.\n",
    "import requests\n",
    "import pandas as pd\n",
    "import numpy as np\n",
    "import json\n",
    "import geopandas as gpd\n",
    "from shapely.geometry import Point\n",
    "from census import Census\n",
    "from us import states\n",
    "import warnings\n",
    "warnings.filterwarnings('ignore')"
   ]
  },
  {
   "cell_type": "markdown",
   "id": "e889972f",
   "metadata": {},
   "source": [
    "## Analyzing Aggravated Burglaries in Davidson County"
   ]
  },
  {
   "cell_type": "markdown",
   "id": "2b1ad07a",
   "metadata": {},
   "source": [
    "1. A dataset containing details about Metro Nashville Police Department reported incidents is available at https://data.nashville.gov/Police/Metro-Nashville-Police-Department-Incidents/2u6v-ujjs. Make use of the API to find all aggravated burglary incidents that were reported during the six month period from January 1, 2021 through June 30, 2021."
   ]
  },
  {
   "cell_type": "code",
   "execution_count": 2,
   "id": "6b95626d",
   "metadata": {},
   "outputs": [],
   "source": [
    "# Question 1\n",
    "\n",
    "#Read in JSON file using API with selection of aggravated burglary incidents \n",
    "#between floating timestamp datatype values.\n",
    "response = requests.get('https://data.nashville.gov/resource/2u6v-ujjs.json?offense_description=BURGLARY- AGGRAVATED&\\\n",
    "$where=incident_reported between \"2021-01-01T00:00:00.000\" and \"2021-07-01T00:00:00.000\"')\n",
    "burglaries = (\n",
    "    pd.read_json(response.text)\n",
    "    .drop_duplicates(subset = \"incident_number\")\n",
    ")\n",
    "burglaries.to_csv(\"../data/Write_Data_Here/burglaries.csv\", index = False)\n",
    "\n",
    "#Create GeoDataFrame using longitude and latitude in burglaries dataframe.\n",
    "geometry = [Point(xy) for xy in zip(burglaries['longitude'], burglaries['latitude'])]\n",
    "burglaries = burglaries.drop(['longitude', 'latitude'], axis = 1)\n",
    "geo_burglaries = gpd.GeoDataFrame(burglaries, crs = \"EPSG:4269\", geometry = geometry)"
   ]
  },
  {
   "cell_type": "markdown",
   "id": "d6cbb69b",
   "metadata": {},
   "source": [
    "2. Download the 2019 census tract shapefiles for Tennessee from https://www.census.gov/geographies/mapping-files/time-series/geo/tiger-line-file.2019.html. (The FIPS code for Tennessee is 47). Perform a spatial join to determine the census tract in which each burglary incident occurred. Which census tract had the highest number of burglaries? Warning - each incident can appear multiple times if there are multiple victims, so be sure that you aren't double-counting any incidents."
   ]
  },
  {
   "cell_type": "code",
   "execution_count": 3,
   "id": "6a93926a",
   "metadata": {},
   "outputs": [
    {
     "data": {
      "text/html": [
       "<div>\n",
       "<style scoped>\n",
       "    .dataframe tbody tr th:only-of-type {\n",
       "        vertical-align: middle;\n",
       "    }\n",
       "\n",
       "    .dataframe tbody tr th {\n",
       "        vertical-align: top;\n",
       "    }\n",
       "\n",
       "    .dataframe thead th {\n",
       "        text-align: right;\n",
       "    }\n",
       "</style>\n",
       "<table border=\"1\" class=\"dataframe\">\n",
       "  <thead>\n",
       "    <tr style=\"text-align: right;\">\n",
       "      <th></th>\n",
       "      <th>Census_Tract</th>\n",
       "      <th>Burglary_Number</th>\n",
       "    </tr>\n",
       "  </thead>\n",
       "  <tbody>\n",
       "    <tr>\n",
       "      <th>0</th>\n",
       "      <td>Census Tract 163</td>\n",
       "      <td>52</td>\n",
       "    </tr>\n",
       "  </tbody>\n",
       "</table>\n",
       "</div>"
      ],
      "text/plain": [
       "       Census_Tract  Burglary_Number\n",
       "0  Census Tract 163               52"
      ]
     },
     "execution_count": 3,
     "metadata": {},
     "output_type": "execute_result"
    }
   ],
   "source": [
    "# Question 2\n",
    "\n",
    "# Use Geopandas to read in census tract files\n",
    "census_tracts = gpd.read_file(\"../data/tl_2019_47_tract.shp\")\n",
    "geo_burg_census = (\n",
    "    gpd.sjoin(geo_burglaries, census_tracts, how = \"inner\", op = \"within\")\n",
    "    .rename(columns = {'NAMELSAD':'Census_Tract'})\n",
    ")\n",
    "\n",
    "# Census Tract 163 is where the most incidents have occurred.\n",
    "# Also create dataframe for number of burglaries per census tract in Davidson County, TN for later question.\n",
    "burglaries_per_1000 = (\n",
    "    geo_burg_census['Census_Tract'].value_counts().reset_index()\n",
    "    .rename(columns = {'index':'Census_Tract', 'Census_Tract':'Burglary_Number'})\n",
    ")\n",
    "burglaries_per_1000[burglaries_per_1000['Burglary_Number'] == burglaries_per_1000['Burglary_Number'].max()]"
   ]
  },
  {
   "cell_type": "markdown",
   "id": "23598e62",
   "metadata": {},
   "source": [
    "3. For this part, you'll need to request a census API key. Using the 2019 American Community Survey API, obtain, for each census tract, the population (B01001_001E in the detailed tables) and the median income (S1901_C01_012E in the subject tables). Hint: Tennessee's FIPS code is 47 and Davidson County's FIPS code is 37. Merge this new data with the burglaries data above."
   ]
  },
  {
   "cell_type": "code",
   "execution_count": 4,
   "id": "b49e318d",
   "metadata": {},
   "outputs": [],
   "source": [
    "# Question 3\n",
    "\n",
    "# Load census API key.\n",
    "with open('../data/census.json') as fi:\n",
    "    credentials = json.load(fi)\n",
    "c = Census(credentials['api_key'])\n",
    "\n",
    "# Get requests using census package.\n",
    "davidson_pop = c.acs5.state_county_tract(['NAME', 'B01001_001E'], '47', '037', Census.ALL, year = 2019)\n",
    "davidson_inc = c.acs5st.state_county_tract(['NAME', 'S1901_C01_012E'], '47', '037', Census.ALL, year = 2019)\n",
    "\n",
    "# Create GeoDataFrames, clean them up a little and merge them into geo_burg_census with an attribute join.\n",
    "def convert_clean_and_merge(acquirer, *args):\n",
    "    \"\"\"Takes in variables, creates dataframes, cleans them and then merges them with acquirer dataframe.\"\"\"\n",
    "    for df in args:\n",
    "        df = pd.DataFrame(df)\n",
    "        df[\"Census_Tract\"] = df['NAME'].str.split(',', expand = True)[0]\n",
    "        df = (\n",
    "            df.rename(columns = {'B01001_001E':'Total_Population',\\\n",
    "                                      'S1901_C01_012E':'Median_Income'})\n",
    "                    .drop(columns = ['NAME', 'state', 'county', 'tract'])\n",
    "        )\n",
    "        acquirer = acquirer.merge(df)\n",
    "    return acquirer\n",
    "\n",
    "geo_burg_census = convert_clean_and_merge(geo_burg_census, davidson_pop, davidson_inc)"
   ]
  },
  {
   "cell_type": "markdown",
   "id": "09c99e81",
   "metadata": {},
   "source": [
    "4. Create a choropleth showing the number of burglaries per 1000 residents for each census tract."
   ]
  },
  {
   "cell_type": "code",
   "execution_count": 5,
   "id": "b34dd01d",
   "metadata": {
    "scrolled": false
   },
   "outputs": [],
   "source": [
    "# Question 4\n",
    "\n",
    "# Merge tracts and population subset of geo_burg_census with burglaries_per_1000.\n",
    "merged_burglaries_per_1000 = (\n",
    "    pd.merge(burglaries_per_1000, \n",
    "             geo_burg_census[['Census_Tract', 'Total_Population', 'Median_Income','incident_occurred']]\\\n",
    "             .drop_duplicates(subset = {'Census_Tract'}), \n",
    "             on = \"Census_Tract\")\n",
    ")\n",
    "\n",
    "# Then merge Davidson only census tract info with merged_burglaries_per_1000 (for mapping purposes).\n",
    "merged_burglaries_per_1000 = (\n",
    "    pd.merge(census_tracts.loc[census_tracts['COUNTYFP'].isin(['037'])], \n",
    "             merged_burglaries_per_1000, \n",
    "             left_on = 'NAMELSAD', \n",
    "             right_on = 'Census_Tract')\n",
    ")\n",
    "\n",
    "# Create a column for burglaries per 1,000 people.\n",
    "merged_burglaries_per_1000[\"Burglaries_per_1000\"] = (\n",
    "    merged_burglaries_per_1000[\"Burglary_Number\"]/merged_burglaries_per_1000[\"Total_Population\"] * 1000\n",
    ")\n",
    "\n",
    "# Remove potentially hidden infinite or NaN values.\n",
    "merged_burglaries_per_1000.replace([np.inf, -np.inf], np.nan, inplace=True)\n",
    "merged_burglaries_per_1000 = (\n",
    "    merged_burglaries_per_1000.dropna()\n",
    "    .loc[(merged_burglaries_per_1000['Total_Population'] > 0)\\\n",
    "         & (merged_burglaries_per_1000['Median_Income'] > 0)]\n",
    ")\n",
    "\n",
    "# Create log and intercept columns of each of Total_Population and Median_Income.\n",
    "merged_burglaries_per_1000['Intercept'] = 1\n",
    "merged_burglaries_per_1000 = merged_burglaries_per_1000[['incident_occurred',\n",
    "                                                         'ALAND',\n",
    "                                                         'AWATER',\n",
    "                                                         'INTPTLAT',\n",
    "                                                         'INTPTLON',\n",
    "                                                         'geometry',\n",
    "                                                         'Census_Tract',\n",
    "                                                         'Burglary_Number',\n",
    "                                                         'Total_Population',\n",
    "                                                         'Median_Income',\n",
    "                                                         'Burglaries_per_1000',\n",
    "                                                         'Intercept']]\n",
    "merged_burglaries_per_1000.to_file(\"../data/Write_Data_Here/merged_burglaries_per_1000.shp\")"
   ]
  }
 ],
 "metadata": {
  "kernelspec": {
   "display_name": "Python 3 (ipykernel)",
   "language": "python",
   "name": "python3"
  },
  "language_info": {
   "codemirror_mode": {
    "name": "ipython",
    "version": 3
   },
   "file_extension": ".py",
   "mimetype": "text/x-python",
   "name": "python",
   "nbconvert_exporter": "python",
   "pygments_lexer": "ipython3",
   "version": "3.8.11"
  }
 },
 "nbformat": 4,
 "nbformat_minor": 5
}
