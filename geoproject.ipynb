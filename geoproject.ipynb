{
 "cells": [
  {
   "cell_type": "code",
   "execution_count": 3,
   "source": [
    "import requests\n",
    "import pandas as pd\n",
    "import json\n",
    "import geopandas as gpd\n",
    "from shapely.geometry import Point\n",
    "from census import Census\n",
    "from us import states"
   ],
   "outputs": [],
   "metadata": {}
  },
  {
   "cell_type": "markdown",
   "source": [
    "# Analyzing Aggravated Burglaries in Davidson County\n",
    "\n",
    "1. A dataset containing details about Metro Nashville Police Department reported incidents is available at https://data.nashville.gov/Police/Metro-Nashville-Police-Department-Incidents/2u6v-ujjs. Make use of the API to find all aggravated burglary incidents that were reported during the six month period from January 1, 2021 through June 30, 2021.\n"
   ],
   "metadata": {}
  },
  {
   "cell_type": "code",
   "execution_count": 4,
   "source": [
    "import requests"
   ],
   "outputs": [],
   "metadata": {}
  },
  {
   "cell_type": "code",
   "execution_count": 18,
   "source": [
    "endpoint = 'https://data.nashville.gov/resource/2u6v-ujjs.json'"
   ],
   "outputs": [],
   "metadata": {}
  },
  {
   "cell_type": "code",
   "execution_count": 19,
   "source": [
    "params = {'report_type_description' : 'BURGLARY', 'incident_reported' : \"between '2021-01-01T12:00:00' and '2021-06-30T23:59:59'\"}\n",
    "# both single quote and double quotes used"
   ],
   "outputs": [],
   "metadata": {}
  },
  {
   "cell_type": "code",
   "execution_count": 20,
   "source": [
    "response = requests.get(endpoint, params)"
   ],
   "outputs": [],
   "metadata": {}
  },
  {
   "cell_type": "code",
   "execution_count": 21,
   "source": [
    "response"
   ],
   "outputs": [
    {
     "output_type": "execute_result",
     "data": {
      "text/plain": [
       "<Response [400]>"
      ]
     },
     "metadata": {},
     "execution_count": 21
    }
   ],
   "metadata": {}
  },
  {
   "cell_type": "code",
   "execution_count": 8,
   "source": [
    "from io import StringIO # turn strings to DF"
   ],
   "outputs": [],
   "metadata": {}
  },
  {
   "cell_type": "code",
   "execution_count": 9,
   "source": [
    "police = pd.read_csv(StringIO(response.text))"
   ],
   "outputs": [],
   "metadata": {}
  },
  {
   "cell_type": "code",
   "execution_count": 10,
   "source": [
    "police.head()"
   ],
   "outputs": [
    {
     "output_type": "execute_result",
     "data": {
      "text/html": [
       "<div>\n",
       "<style scoped>\n",
       "    .dataframe tbody tr th:only-of-type {\n",
       "        vertical-align: middle;\n",
       "    }\n",
       "\n",
       "    .dataframe tbody tr th {\n",
       "        vertical-align: top;\n",
       "    }\n",
       "\n",
       "    .dataframe thead th {\n",
       "        text-align: right;\n",
       "    }\n",
       "</style>\n",
       "<table border=\"1\" class=\"dataframe\">\n",
       "  <thead>\n",
       "    <tr style=\"text-align: right;\">\n",
       "      <th></th>\n",
       "      <th>{\"message\":\"Query coordinator error: query.soql.type-mismatch; Type mismatch for op$=</th>\n",
       "      <th>is text; position: Map(row -&gt; 1</th>\n",
       "      <th>column -&gt; 1204</th>\n",
       "      <th>line -&gt; \\\"SELECT `primary_key`</th>\n",
       "      <th>`incident_number`</th>\n",
       "      <th>`report_type`</th>\n",
       "      <th>`report_type_description`</th>\n",
       "      <th>`incident_status_code`</th>\n",
       "      <th>`incident_status_description`</th>\n",
       "      <th>`investigation_status`</th>\n",
       "      <th>...</th>\n",
       "      <th>`weapon_description`.3</th>\n",
       "      <th>`victim_number`.3</th>\n",
       "      <th>`domestic_related`.3</th>\n",
       "      <th>`victim_type`.3</th>\n",
       "      <th>`victim_description`.3</th>\n",
       "      <th>`victim_gender`.3</th>\n",
       "      <th>`victim_race`.3</th>\n",
       "      <th>`victim_ethnicity`.3</th>\n",
       "      <th>`victim_county_resident`.3</th>\n",
       "      <th>`mapped_location` WHERE `incident_reported` = '01/01/2021T00:00:00' AND `report_type_description` = 'BURGLEARY'\\n                                                                                                                                                                                                                                                                                                                                                                                                                                                                                                                                                                                                                                                                                                                                                                                                                                                                                                                                                                                                                                                                                                                                                                                                                                                   ^\"}}}</th>\n",
       "    </tr>\n",
       "  </thead>\n",
       "  <tbody>\n",
       "  </tbody>\n",
       "</table>\n",
       "<p>0 rows × 131 columns</p>\n",
       "</div>"
      ],
      "text/plain": [
       "Empty DataFrame\n",
       "Columns: [{\"message\":\"Query coordinator error: query.soql.type-mismatch; Type mismatch for op$=,  is text; position: Map(row -> 1,  column -> 1204,  line -> \\\"SELECT `primary_key`,  `incident_number`,  `report_type`,  `report_type_description`,  `incident_status_code`,  `incident_status_description`,  `investigation_status`,  `incident_occurred`,  `incident_reported`,  `incident_location`,  `latitude`,  `longitude`,  `zip_code`,  `rpa`,  `zone`,  `location_code`,  `location_description`,  `offense_number`,  `offense_nibrs`,  `offense_description`,  `weapon_primary`,  `weapon_description`,  `victim_number`,  `domestic_related`,  `victim_type`,  `victim_description`,  `victim_gender`,  `victim_race`,  `victim_ethnicity`,  `victim_county_resident`,  `mapped_location` |> SELECT `primary_key`,  `incident_number`.1,  `report_type`.1,  `report_type_description`.1,  `incident_status_code`.1,  `incident_status_description`.1,  `investigation_status`.1,  `incident_occurred`.1,  `incident_reported`.1,  `incident_location`.1,  `latitude`.1,  `longitude`.1,  `zip_code`.1,  `rpa`.1,  `zone`.1,  `location_code`.1,  `location_description`.1,  `offense_number`.1,  `offense_nibrs`.1,  `offense_description`.1,  `weapon_primary`.1,  `weapon_description`.1,  `victim_number`.1,  `domestic_related`.1,  `victim_type`.1,  `victim_description`.1,  `victim_gender`.1,  `victim_race`.1,  `victim_ethnicity`.1,  `victim_county_resident`.1,  `mapped_location` WHERE `incident_reported` = '01/01/2021T00:00:00' AND `report_type_description` = 'BURGLEARY'\\\\n                                                                                                                                                                                                                                                                                                                                                                                                                                                                                                                                                                                                                                                                                                                                                                                                                                                                                                                                                                                                                                                                                                                                                                                                                                                   ^\\\")\", errorCode:\"query.soql.type-mismatch\", data:{\"function\":\"op$=\", type:\"text\", dataset:\"charlie.88419\", position:{\"row\":1, column:1204, line:\"SELECT `primary_key`,  `incident_number`.2,  `report_type`.2,  `report_type_description`.2,  `incident_status_code`.2,  `incident_status_description`.2,  `investigation_status`.2,  `incident_occurred`.2,  `incident_reported`.2,  `incident_location`.2,  `latitude`.2,  `longitude`.2,  `zip_code`.2,  `rpa`.2,  `zone`.2,  `location_code`.2,  `location_description`.2,  `offense_number`.2,  `offense_nibrs`.2,  `offense_description`.2,  `weapon_primary`.2,  `weapon_description`.2,  `victim_number`.2,  `domestic_related`.2,  `victim_type`.2,  `victim_description`.2,  `victim_gender`.2,  `victim_race`.2,  `victim_ethnicity`.2,  `victim_county_resident`.2, ...]\n",
       "Index: []\n",
       "\n",
       "[0 rows x 131 columns]"
      ]
     },
     "metadata": {},
     "execution_count": 10
    }
   ],
   "metadata": {
    "scrolled": true
   }
  },
  {
   "cell_type": "code",
   "execution_count": 11,
   "source": [
    "police.info()"
   ],
   "outputs": [
    {
     "output_type": "stream",
     "name": "stdout",
     "text": [
      "<class 'pandas.core.frame.DataFrame'>\n",
      "Index: 0 entries\n",
      "Columns: 131 entries, {\"message\":\"Query coordinator error: query.soql.type-mismatch; Type mismatch for op$= to  `mapped_location` WHERE `incident_reported` = '01/01/2021T00:00:00' AND `report_type_description` = 'BURGLEARY'\\n                                                                                                                                                                                                                                                                                                                                                                                                                                                                                                                                                                                                                                                                                                                                                                                                                                                                                                                                                                                                                                                                                                                                                                                                                                                   ^\"}}}\n",
      "dtypes: object(131)\n",
      "memory usage: 0.0+ bytes\n"
     ]
    }
   ],
   "metadata": {}
  },
  {
   "cell_type": "markdown",
   "source": [
    "\n",
    "2. Download the 2019 census tract shapefiles for Tennessee from https://www.census.gov/geographies/mapping-files/time-series/geo/tiger-line-file.2019.html. (The FIPS code for Tennessee is 47). Perform a spatial join to determine the census tract in which each burglary incident occurred. Which census tract had the highest number of burglaries? Warning - each incident can appear multiple times if there are multiple victims, so be sure that you aren't double-counting any incidents.\n",
    "\n"
   ],
   "metadata": {}
  },
  {
   "cell_type": "code",
   "execution_count": null,
   "source": [],
   "outputs": [],
   "metadata": {}
  },
  {
   "cell_type": "markdown",
   "source": [
    "3. For this part, you'll need to request a [census API key](https://api.census.gov/data/key_signup.html). Using the [2019 American Community Survey API](https://www.census.gov/data/developers/data-sets/acs-5year.html), obtain, for each census tract, the population (B01001_001E in the detailed tables) and the median income (S1901_C01_012E in the subject tables). Hint: Tennessee's FIPS code is 47 and Davidson County's FIPS code is 37. Merge this new data with the burglaries data above.\n",
    "\n"
   ],
   "metadata": {}
  },
  {
   "cell_type": "markdown",
   "source": [
    "4. Create a choropleth showing the number of burglaries per 1000 residents for each census tract.\n",
    "\n"
   ],
   "metadata": {}
  },
  {
   "cell_type": "markdown",
   "source": [
    "5. Finally, we'll build some statistical models to see how well we can explain the number of aggravated burglaries using the median income of each census tract. For this, we'll be using the [Generalized Linear Models](https://www.statsmodels.org/stable/glm.html) module of the statsmodels library.\n",
    "\n",
    "    a. Build a \"base model\" - a Poisson regression model with just an intercept term with target variable the rate of burglaries per census tract. (Offset using the [log of the] population so that we are looking at the rate of burglaries per population instead of the number of burglaries.)\n",
    "\n",
    "    b. Now, build a Poisson regression model with target variable the rate of burglaries and predictor variable the median income. (Don't forget to offset by the population).\n",
    "\n",
    "    c. Finally, try out a negative binomial model. To get started with a negative binomial model, you can check out [this tutorial](https://timeseriesreasoning.com/contents/negative-binomial-regression-model/).\n",
    "\n",
    "    d. How do your models compare? Hint: the fit models have an AIC attribute.\n",
    "\n"
   ],
   "metadata": {}
  },
  {
   "cell_type": "markdown",
   "source": [
    "6. Prepare a short presentation (<10 minutes) of your findings.\n",
    "\n",
    "Additional Resources for Generalized Linear Models:\n",
    "* DataCamp - [Generalized Linear Models in Python](https://learn.datacamp.com/courses/generalized-linear-models-in-python)\n",
    "* [Beyond Multiple Linear Regression, Chapter 4](https://bookdown.org/roback/bookdown-BeyondMLR/ch-poissonreg.html) Warning - the code in this book is all R, but the conceptual explanations are very clear.\n",
    "* [This set of notes](https://apwheele.github.io/MathPosts/PoissonReg.html#negative-binomial-when-the-poisson-does-not-fit), which talks about the problem of overdispersion."
   ],
   "metadata": {}
  }
 ],
 "metadata": {
  "kernelspec": {
   "name": "python3",
   "display_name": "Python 3.9.6 64-bit"
  },
  "language_info": {
   "codemirror_mode": {
    "name": "ipython",
    "version": 3
   },
   "file_extension": ".py",
   "mimetype": "text/x-python",
   "name": "python",
   "nbconvert_exporter": "python",
   "pygments_lexer": "ipython3",
   "version": "3.9.6"
  },
  "interpreter": {
   "hash": "aee8b7b246df8f9039afb4144a1f6fd8d2ca17a180786b69acc140d282b71a49"
  }
 },
 "nbformat": 4,
 "nbformat_minor": 5
}